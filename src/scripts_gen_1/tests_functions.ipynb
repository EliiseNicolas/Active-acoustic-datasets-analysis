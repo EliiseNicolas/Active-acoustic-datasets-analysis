{
 "cells": [
  {
   "cell_type": "code",
   "execution_count": 2,
   "metadata": {},
   "outputs": [],
   "source": [
    "import pickle as pkl\n",
    "import numpy as np\n",
    "from typing import Dict\n",
    "import os\n",
    "import xarray as xr\n",
    "%load_ext autoreload\n",
    "%autoreload 2\n",
    "from basic_functions import *\n",
    "import itertools\n",
    "import datetime as dt\n",
    "import plotly.graph_objects as go\n",
    "import echopype as ep\n",
    "from shapely.geometry import Point, Polygon\n",
    "import seaborn as sns"
   ]
  },
  {
   "cell_type": "code",
   "execution_count": null,
   "metadata": {},
   "outputs": [],
   "source": [
    "np.set_printoptions(threshold=10000)\n"
   ]
  },
  {
   "cell_type": "code",
   "execution_count": 4,
   "metadata": {},
   "outputs": [],
   "source": [
    "# filter_by_bathymetry(\"../data/acoustic_data/18kHz/processed_data/by_day/18kHz_v1_summer_cropped_24h.pkl\", \"../data/acoustic_data/18kHz/processed_data/by_day/filtered_bathymetry/\")"
   ]
  },
  {
   "cell_type": "code",
   "execution_count": 5,
   "metadata": {},
   "outputs": [],
   "source": [
    "# display_all_trajectories_folder(\"../data/acoustic_data/18kHz/processed_data/by_day/filtered_bathymetry/labelled/by_period/summer/18kHz_v1_summer_cropped_24h_filtered_bathymetry_labelled_day.pkl\", save=True, dest_path= \"../data/figures/trajectories_by_season/filtered_bathymetry/\")"
   ]
  },
  {
   "cell_type": "code",
   "execution_count": 6,
   "metadata": {},
   "outputs": [],
   "source": [
    "# put_label_inROI_outROI(\"../data/acoustic_data/18kHz/processed_data/by_day/filtered_bathymetry/18kHz_v1_summer_cropped_24h_filtered_bathymetry.pkl\", \"../data/acoustic_data/18kHz/processed_data/by_day/filtered_bathymetry/labelled/\")"
   ]
  },
  {
   "cell_type": "code",
   "execution_count": 7,
   "metadata": {},
   "outputs": [],
   "source": [
    "# d, in_ROI, out_ROI = get_mean_var_in_out_ROI(\"../data/acoustic_data/18kHz/processed_data/by_day/filtered_bathymetry/labelled/by_period/summer/18kHz_v1_summer_cropped_24h_filtered_bathymetry_labelled_day.pkl\")\n",
    "# print(\"in ROI : \", in_ROI)\n",
    "# print(\"out ROI : \", out_ROI)"
   ]
  },
  {
   "cell_type": "code",
   "execution_count": 8,
   "metadata": {},
   "outputs": [],
   "source": [
    "# boxplot_mean_std(d, in_ROI, out_ROI, save=True, dest_path=\"../data/figures/mean_Sv_by_depth_in-out_ROI/\", title=\"summer_night\")"
   ]
  },
  {
   "cell_type": "code",
   "execution_count": 13,
   "metadata": {},
   "outputs": [
    {
     "name": "stdout",
     "output_type": "stream",
     "text": [
      "<xarray.DataArray 'day' (TIME: 4281)> Size: 34kB\n",
      "[4281 values with dtype=float64]\n",
      "Coordinates:\n",
      "  * TIME     (TIME) datetime64[ns] 34kB 2015-12-05T00:18:18.534999040 ... 201...\n",
      "Attributes:\n",
      "    ancillary_variables:  day_quality_control\n",
      "    long_name:            diurnal_sun_cycle\n",
      "    units:                1-Day 2-Sunset +/-1 hr 3-Sunrise +/-1 hr 4-Night\n",
      "    valid_max:            4.0\n",
      "    valid_min:            1.0\n"
     ]
    }
   ],
   "source": [
    "imos = \"/home/elise/Documents/M1-BIM/S2/active_acoutics_analysis_sea_elephants/data/acoustic_data/18kHz/IMOS_18kHz/IMOS_SOOP-BA_AE_20151205T001818Z_VLMJ_FV02_Investigator-EK60-18-38-70-120_END-20151207T093638Z_C-20220211T063638Z.nc\"\n",
    "\n",
    "ds = xr.open_dataset(imos)\n",
    "print(ds[\"day\"])"
   ]
  },
  {
   "cell_type": "code",
   "execution_count": 30,
   "metadata": {},
   "outputs": [
    {
     "name": "stdout",
     "output_type": "stream",
     "text": [
      "NOOOOO 0\n",
      "NOOOOO 1\n",
      "NOOOOO 23\n",
      "NOOOOO 0\n",
      "NOOOOO 1\n",
      "NOOOOO 23\n",
      "NOOOOO 0\n",
      "NOOOOO 1\n",
      "NOOOOO 23\n",
      "NOOOOO 0\n",
      "NOOOOO 23\n",
      "NOOOOO 23\n",
      "NOOOOO 23\n",
      "NOOOOO 23\n",
      "NOOOOO 0\n",
      "NOOOOO 23\n",
      "NOOOOO 0\n",
      "NOOOOO 0\n",
      "NOOOOO 23\n",
      "NOOOOO 0\n",
      "NOOOOO 23\n",
      "NOOOOO 10\n",
      "NOOOOO 10\n",
      "NOOOOO 23\n",
      "NOOOOO 10\n",
      "26\n"
     ]
    }
   ],
   "source": [
    "path_period_day = \"/home/elise/Documents/M1-BIM/S2/active_acoutics_analysis_sea_elephants/data/acoustic_data/18kHz/processed_data/by_day/filtered_bathymetry/labelled/by_period/spring/18kHz_v1_spring_cropped_24h_filtered_bathymetry_labelled_night.pkl\"\n",
    "c=0\n",
    "day = [22, 23, 0, 1, 2, 3, 4, 5, 6, 7, 8, 9, 10]\n",
    "night = [11, 12, 13, 14, 15, 16, 17, 18, 19, 20, 21, 22]\n",
    "with open(path_period_day, 'rb') as pkl_file : \n",
    "    while True : \n",
    "        try : \n",
    "            date, data_dict = pkl.load(pkl_file)\n",
    "            time = data_dict[\"TIME\"]\n",
    "            hours = np.unique(np.array([dt.hour for dt in time]))\n",
    "            for h in hours : \n",
    "                if h not in night : \n",
    "                    print(\"NOOOOO\", h)\n",
    "           \n",
    "            \n",
    "            c+=1\n",
    "        except EOFError : \n",
    "            break\n",
    "\n",
    "print(c)\n"
   ]
  },
  {
   "cell_type": "code",
   "execution_count": null,
   "metadata": {},
   "outputs": [],
   "source": []
  }
 ],
 "metadata": {
  "kernelspec": {
   "display_name": "interactiveGUI",
   "language": "python",
   "name": "python3"
  },
  "language_info": {
   "codemirror_mode": {
    "name": "ipython",
    "version": 3
   },
   "file_extension": ".py",
   "mimetype": "text/x-python",
   "name": "python",
   "nbconvert_exporter": "python",
   "pygments_lexer": "ipython3",
   "version": "3.10.14"
  }
 },
 "nbformat": 4,
 "nbformat_minor": 2
}
