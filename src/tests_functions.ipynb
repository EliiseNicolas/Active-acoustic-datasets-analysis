{
 "cells": [
  {
   "cell_type": "code",
   "execution_count": 1,
   "metadata": {},
   "outputs": [],
   "source": [
    "import os\n",
    "import xarray as xr\n",
    "import pickle\n"
   ]
  },
  {
   "cell_type": "code",
   "execution_count": 2,
   "metadata": {},
   "outputs": [],
   "source": [
    "path_eighteen = \"../data/acoustic_data/18Hz/IMOS_18Hz\""
   ]
  },
  {
   "cell_type": "code",
   "execution_count": 15,
   "metadata": {},
   "outputs": [],
   "source": [
    "def reduce_dim_files_in_folder(folder_path:str, pickle_name:str, var_name:str=\"Sv\"):\n",
    "    # Create pickle dict\n",
    "    pickle_file = pickle_name + \".pkl\"\n",
    "    all_data = {}\n",
    "\n",
    "    # Get every file of folder\n",
    "    list_files = os.listdir(folder_path)\n",
    "    with open(pickle_file, 'wb') as p_file:\n",
    "        \n",
    "        for file in list_files :\n",
    "\n",
    "                # Open file\n",
    "                if file.endswith('.nc') : \n",
    "                    print(\"1\")\n",
    "                    # Load file in xarray.Dataset\n",
    "                    file_path = os.path.join(folder_path, file)\n",
    "                    ds=xr.open_dataset(file_path)\n",
    "\n",
    "                    # Create dict containing data of current file\n",
    "                    data_file = {}\n",
    "\n",
    "                    # Keep coordinates (time, depth, longitude, latitude, channels)\n",
    "                    time = ds.coords[\"TIME\"].values\n",
    "                    data_file[\"TIME\"]=time\n",
    "\n",
    "                    depth = ds.coords[\"DEPTH\"].values\n",
    "                    data_file[\"DEPTH\"]=depth\n",
    "                    \n",
    "                    longitude = ds[\"LONGITUDE\"][:]\n",
    "                    data_file[\"LONGITUDE\"]=longitude\n",
    "\n",
    "                    latitude = ds[\"LATITUDE\"][:]\n",
    "                    data_file[\"ATITUDE\"]=latitude\n",
    "\n",
    "                    # channel = ds.attrs[\"channel\"]\n",
    "                    # data_file[\"CHANNEL\"]=channel\n",
    "                    \n",
    "                    # Keep only variable of interest and day\n",
    "                    sv = ds[var_name].values #np.ndarray of shape (n_pings, d_depths, n_channels)\n",
    "                    data_file[\"Sv\"]=sv\n",
    "                    \n",
    "                    day = ds[\"day\"].values\n",
    "                    data_file[\"DAY\"]=day\n",
    "\n",
    "                    # Get title of file\n",
    "                    title = ds.attrs[\"title\"]\n",
    "\n",
    "                    # Add data of current file to dict containing all datas\n",
    "                    data_file[title]=data_file\n",
    "\n",
    "                    # Close xarray.Dataset\n",
    "                    ds.close()\n",
    "                    \n",
    "                    pickle.dump({title: data_file}, p_file)\n",
    "                "
   ]
  },
  {
   "cell_type": "code",
   "execution_count": 16,
   "metadata": {},
   "outputs": [
    {
     "name": "stdout",
     "output_type": "stream",
     "text": [
      "1\n",
      "1\n",
      "1\n",
      "1\n",
      "1\n",
      "1\n",
      "1\n",
      "1\n",
      "1\n",
      "1\n",
      "1\n",
      "1\n",
      "1\n",
      "1\n",
      "1\n",
      "1\n",
      "1\n",
      "1\n",
      "1\n",
      "1\n",
      "1\n",
      "1\n",
      "1\n",
      "1\n",
      "1\n",
      "1\n",
      "1\n",
      "1\n",
      "1\n",
      "1\n",
      "1\n",
      "1\n",
      "1\n",
      "1\n",
      "1\n",
      "1\n",
      "1\n",
      "1\n",
      "1\n",
      "1\n",
      "1\n",
      "1\n",
      "1\n",
      "1\n",
      "1\n",
      "1\n",
      "1\n",
      "1\n",
      "1\n",
      "1\n",
      "1\n",
      "1\n"
     ]
    }
   ],
   "source": [
    "reduce_dim_files_in_folder(path_eighteen, \"18kHz\")"
   ]
  },
  {
   "cell_type": "code",
   "execution_count": 18,
   "metadata": {},
   "outputs": [],
   "source": [
    "# with open(\"./18kHz.pkl\", 'rb') as file:\n",
    "#     loaded_dict = pickle.load(file)\n",
    "\n",
    "# print(loaded_dict)"
   ]
  },
  {
   "cell_type": "code",
   "execution_count": null,
   "metadata": {},
   "outputs": [],
   "source": []
  }
 ],
 "metadata": {
  "kernelspec": {
   "display_name": "interactiveGUI",
   "language": "python",
   "name": "python3"
  },
  "language_info": {
   "codemirror_mode": {
    "name": "ipython",
    "version": 3
   },
   "file_extension": ".py",
   "mimetype": "text/x-python",
   "name": "python",
   "nbconvert_exporter": "python",
   "pygments_lexer": "ipython3",
   "version": "3.10.14"
  }
 },
 "nbformat": 4,
 "nbformat_minor": 2
}
