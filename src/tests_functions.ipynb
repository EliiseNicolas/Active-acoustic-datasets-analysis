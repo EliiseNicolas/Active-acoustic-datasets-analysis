{
 "cells": [
  {
   "cell_type": "code",
   "execution_count": 22,
   "metadata": {},
   "outputs": [],
   "source": [
    "import pickle"
   ]
  },
  {
   "cell_type": "code",
   "execution_count": 21,
   "metadata": {},
   "outputs": [
    {
     "name": "stdout",
     "output_type": "stream",
     "text": [
      "Batch chargé : IMOS Bioacoustics sub-Facility dataset from Mauritius to HIMI in May 2016\n",
      "Clés du batch : ['DEPTH', 'TIME', 'LONGITUDE', 'LATITUDE', 'CHANNEL', 'Sv', 'DAY']\n",
      "Batch chargé : IMOS Bioacoustics sub-Facility dataset from Mauritius to HIMI in Mar 2017\n",
      "Clés du batch : ['TIME', 'LONGITUDE', 'LATITUDE', 'CHANNEL', 'Sv', 'DAY']\n",
      "Batch chargé : IMOS Bioacoustics sub-Facility dataset from 47 S 93 E to 46 S 113 E in Feb 2016\n",
      "Clés du batch : ['TIME', 'LONGITUDE', 'LATITUDE', 'CHANNEL', 'Sv', 'DAY']\n",
      "Batch chargé : IMOS Bioacoustics sub-Facility dataset from HIMI to Mauritius in May 2017\n",
      "Clés du batch : ['TIME', 'LONGITUDE', 'LATITUDE', 'CHANNEL', 'Sv', 'DAY']\n",
      "Batch chargé : IMOS Bioacoustics sub-Facility dataset from 46 S 113 E to Albany in Feb 2016\n",
      "Clés du batch : ['TIME', 'LONGITUDE', 'LATITUDE', 'CHANNEL', 'Sv', 'DAY']\n",
      "Batch chargé : IMOS Bioacoustics sub-Facility dataset from Mauritius to HIMI in May 2017\n",
      "Clés du batch : ['TIME', 'LONGITUDE', 'LATITUDE', 'CHANNEL', 'Sv', 'DAY']\n",
      "Batch chargé : IMOS Bioacoustics sub-Facility dataset from Antarctica to Nelson, NZ in Jan 2017\n",
      "Clés du batch : ['TIME', 'LONGITUDE', 'LATITUDE', 'CHANNEL', 'Sv', 'DAY']\n",
      "Batch chargé : IMOS Bioacoustics sub-Facility dataset from Mauritius to HIMI in Aug 2017\n",
      "Clés du batch : ['TIME', 'LONGITUDE', 'LATITUDE', 'CHANNEL', 'Sv', 'DAY']\n",
      "Batch chargé : IMOS Bioacoustics sub-Facility dataset from Mauritius to HIMI in Mar 2019\n",
      "Clés du batch : ['TIME', 'LONGITUDE', 'LATITUDE', 'CHANNEL', 'Sv', 'DAY']\n",
      "Batch chargé : IMOS Bioacoustics sub-Facility dataset from HIMI to SW Indian Ocean in Jul 2019\n",
      "Clés du batch : ['TIME', 'LONGITUDE', 'LATITUDE', 'CHANNEL', 'Sv', 'DAY']\n",
      "Batch chargé : IMOS Bioacoustics sub-Facility dataset from Antarctica to Tasmania in Jan 2018\n",
      "Clés du batch : ['TIME', 'LONGITUDE', 'LATITUDE', 'CHANNEL', 'Sv', 'DAY']\n",
      "Batch chargé : IMOS Bioacoustics sub-Facility dataset from Mauritius to HIMI in Jul 2019\n",
      "Clés du batch : ['TIME', 'LONGITUDE', 'LATITUDE', 'CHANNEL', 'Sv', 'DAY']\n",
      "Batch chargé : IMOS Bioacoustics sub-Facility dataset from HIMI to Mauritius in Nov 2019\n",
      "Clés du batch : ['TIME', 'LONGITUDE', 'LATITUDE', 'CHANNEL', 'Sv', 'DAY']\n",
      "Batch chargé : IMOS Bioacoustics sub-Facility dataset from Mauritius to HIMI in Nov 2019\n",
      "Clés du batch : ['TIME', 'LONGITUDE', 'LATITUDE', 'CHANNEL', 'Sv', 'DAY']\n",
      "Batch chargé : IMOS Bioacoustics sub-Facility dataset from HIMI to Mauritius in Jan 2020\n",
      "Clés du batch : ['TIME', 'LONGITUDE', 'LATITUDE', 'CHANNEL', 'Sv', 'DAY']\n",
      "Batch chargé : IMOS Bioacoustics sub-Facility dataset from Mauritius to HIMI in Mar 2020\n",
      "Clés du batch : ['TIME', 'LONGITUDE', 'LATITUDE', 'CHANNEL', 'Sv', 'DAY']\n",
      "Batch chargé : IMOS Bioacoustics sub-Facility dataset from Albany to Hobart in Feb 2016\n",
      "Clés du batch : ['TIME', 'LONGITUDE', 'LATITUDE', 'CHANNEL', 'Sv', 'DAY']\n",
      "Batch chargé : IMOS Bioacoustics sub-Facility dataset from Perth to HIMI in Jan 2016\n",
      "Clés du batch : ['TIME', 'LONGITUDE', 'LATITUDE', 'CHANNEL', 'Sv', 'DAY']\n",
      "Batch chargé : IMOS Bioacoustics sub-Facility dataset from Antarctica to Hobart in Feb 2017\n",
      "Clés du batch : ['TIME', 'LONGITUDE', 'LATITUDE', 'CHANNEL', 'Sv', 'DAY']\n",
      "Batch chargé : IMOS Bioacoustics sub-Facility dataset from Hobart to Antarctica in Jan 2017\n",
      "Clés du batch : ['TIME', 'LONGITUDE', 'LATITUDE', 'CHANNEL', 'Sv', 'DAY']\n",
      "Batch chargé : IMOS Bioacoustics sub-Facility dataset from Hobart to GAB in Apr 2017\n",
      "Clés du batch : ['TIME', 'LONGITUDE', 'LATITUDE', 'CHANNEL', 'Sv', 'DAY']\n",
      "Batch chargé : IMOS Bioacoustics sub-Facility dataset from GAB to Hobart in Apr 2017\n",
      "Clés du batch : ['TIME', 'LONGITUDE', 'LATITUDE', 'CHANNEL', 'Sv', 'DAY']\n"
     ]
    },
    {
     "ename": "KeyboardInterrupt",
     "evalue": "",
     "output_type": "error",
     "traceback": [
      "\u001b[0;31m---------------------------------------------------------------------------\u001b[0m",
      "\u001b[0;31mKeyboardInterrupt\u001b[0m                         Traceback (most recent call last)",
      "Cell \u001b[0;32mIn[21], line 4\u001b[0m\n\u001b[1;32m      2\u001b[0m \u001b[38;5;28;01mwhile\u001b[39;00m \u001b[38;5;28;01mTrue\u001b[39;00m:\n\u001b[1;32m      3\u001b[0m     \u001b[38;5;28;01mtry\u001b[39;00m:\n\u001b[0;32m----> 4\u001b[0m         data_title, data_file \u001b[38;5;241m=\u001b[39m \u001b[43mpickle\u001b[49m\u001b[38;5;241;43m.\u001b[39;49m\u001b[43mload\u001b[49m\u001b[43m(\u001b[49m\u001b[43mp_file\u001b[49m\u001b[43m)\u001b[49m \n\u001b[1;32m      5\u001b[0m         \u001b[38;5;28mprint\u001b[39m(\u001b[38;5;124m\"\u001b[39m\u001b[38;5;124mBatch chargé :\u001b[39m\u001b[38;5;124m\"\u001b[39m, data_title)  \n\u001b[1;32m      6\u001b[0m         \u001b[38;5;28mprint\u001b[39m(\u001b[38;5;124m\"\u001b[39m\u001b[38;5;124mClés du batch :\u001b[39m\u001b[38;5;124m\"\u001b[39m, \u001b[38;5;28mlist\u001b[39m(data_file\u001b[38;5;241m.\u001b[39mkeys()))  \n",
      "\u001b[0;31mKeyboardInterrupt\u001b[0m: "
     ]
    }
   ],
   "source": [
    "with open(\"../data/acoustic_data/18Hz/processed_data/S0_18kHz.pkl\", 'rb') as p_file:\n",
    "    while True:\n",
    "        try:\n",
    "            data_title, data_file = pickle.load(p_file) \n",
    "            print(\"Batch chargé :\", data_title)  \n",
    "            print(\"Clés du batch :\", list(data_file.keys()))  \n",
    "\n",
    "        except EOFError:\n",
    "            print(\"Fin du fichier atteinte.\")\n",
    "            break"
   ]
  }
 ],
 "metadata": {
  "kernelspec": {
   "display_name": "interactiveGUI",
   "language": "python",
   "name": "python3"
  },
  "language_info": {
   "codemirror_mode": {
    "name": "ipython",
    "version": 3
   },
   "file_extension": ".py",
   "mimetype": "text/x-python",
   "name": "python",
   "nbconvert_exporter": "python",
   "pygments_lexer": "ipython3",
   "version": "3.10.14"
  }
 },
 "nbformat": 4,
 "nbformat_minor": 2
}
